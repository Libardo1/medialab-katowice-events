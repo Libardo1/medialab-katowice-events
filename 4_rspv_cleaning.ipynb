{
 "cells": [
  {
   "cell_type": "code",
   "execution_count": 1,
   "metadata": {
    "collapsed": true
   },
   "outputs": [],
   "source": [
    "%matplotlib inline\n",
    "import pandas as pd"
   ]
  },
  {
   "cell_type": "code",
   "execution_count": 2,
   "metadata": {
    "collapsed": true
   },
   "outputs": [],
   "source": [
    "rsvps = pd.read_csv(\"data/rsvp.csv\")"
   ]
  },
  {
   "cell_type": "code",
   "execution_count": 3,
   "metadata": {
    "collapsed": false
   },
   "outputs": [
    {
     "data": {
      "text/html": [
       "<div>\n",
       "<table border=\"1\" class=\"dataframe\">\n",
       "  <thead>\n",
       "    <tr style=\"text-align: right;\">\n",
       "      <th></th>\n",
       "      <th>name</th>\n",
       "      <th>id</th>\n",
       "      <th>rsvp_status</th>\n",
       "      <th>event_id</th>\n",
       "    </tr>\n",
       "  </thead>\n",
       "  <tbody>\n",
       "    <tr>\n",
       "      <th>0</th>\n",
       "      <td>Anna Dudzińska</td>\n",
       "      <td>1490062834615246</td>\n",
       "      <td>attending</td>\n",
       "      <td>1003506093022823</td>\n",
       "    </tr>\n",
       "    <tr>\n",
       "      <th>1</th>\n",
       "      <td>Ola Góras</td>\n",
       "      <td>1503509646590911</td>\n",
       "      <td>attending</td>\n",
       "      <td>1003506093022823</td>\n",
       "    </tr>\n",
       "    <tr>\n",
       "      <th>2</th>\n",
       "      <td>Agnieszka Siudak</td>\n",
       "      <td>1522214584713449</td>\n",
       "      <td>attending</td>\n",
       "      <td>1003506093022823</td>\n",
       "    </tr>\n",
       "    <tr>\n",
       "      <th>3</th>\n",
       "      <td>Maciej Skobel</td>\n",
       "      <td>1564556903780155</td>\n",
       "      <td>attending</td>\n",
       "      <td>1003506093022823</td>\n",
       "    </tr>\n",
       "    <tr>\n",
       "      <th>4</th>\n",
       "      <td>Krzysztof Tymczyński</td>\n",
       "      <td>416073011881753</td>\n",
       "      <td>attending</td>\n",
       "      <td>1003506093022823</td>\n",
       "    </tr>\n",
       "  </tbody>\n",
       "</table>\n",
       "</div>"
      ],
      "text/plain": [
       "                   name                id rsvp_status          event_id\n",
       "0        Anna Dudzińska  1490062834615246   attending  1003506093022823\n",
       "1             Ola Góras  1503509646590911   attending  1003506093022823\n",
       "2      Agnieszka Siudak  1522214584713449   attending  1003506093022823\n",
       "3         Maciej Skobel  1564556903780155   attending  1003506093022823\n",
       "4  Krzysztof Tymczyński   416073011881753   attending  1003506093022823"
      ]
     },
     "execution_count": 3,
     "metadata": {},
     "output_type": "execute_result"
    }
   ],
   "source": [
    "rsvps.head()"
   ]
  },
  {
   "cell_type": "code",
   "execution_count": 4,
   "metadata": {
    "collapsed": false
   },
   "outputs": [
    {
     "data": {
      "text/plain": [
       "attending    37454\n",
       "unsure       20018\n",
       "declined      6138\n",
       "Name: rsvp_status, dtype: int64"
      ]
     },
     "execution_count": 4,
     "metadata": {},
     "output_type": "execute_result"
    }
   ],
   "source": [
    "rsvps.rsvp_status.value_counts()"
   ]
  },
  {
   "cell_type": "code",
   "execution_count": 8,
   "metadata": {
    "collapsed": false
   },
   "outputs": [
    {
     "data": {
      "text/plain": [
       "36440"
      ]
     },
     "execution_count": 8,
     "metadata": {},
     "output_type": "execute_result"
    }
   ],
   "source": [
    "len(rsvps.id.unique())"
   ]
  },
  {
   "cell_type": "code",
   "execution_count": 9,
   "metadata": {
    "collapsed": false
   },
   "outputs": [
    {
     "data": {
      "text/plain": [
       "35350"
      ]
     },
     "execution_count": 9,
     "metadata": {},
     "output_type": "execute_result"
    }
   ],
   "source": [
    "len(rsvps.name.unique())"
   ]
  },
  {
   "cell_type": "code",
   "execution_count": 12,
   "metadata": {
    "collapsed": false
   },
   "outputs": [
    {
     "data": {
      "text/plain": [
       "1     27374\n",
       "2      4546\n",
       "3      1666\n",
       "4       896\n",
       "5       502\n",
       "6       334\n",
       "7       227\n",
       "8       173\n",
       "9       137\n",
       "10      104\n",
       "11       68\n",
       "12       57\n",
       "13       52\n",
       "14       42\n",
       "15       38\n",
       "17       26\n",
       "16       26\n",
       "19       19\n",
       "18       19\n",
       "21       16\n",
       "23       15\n",
       "20       15\n",
       "22       11\n",
       "24       11\n",
       "25       10\n",
       "26        6\n",
       "28        5\n",
       "27        4\n",
       "40        4\n",
       "31        3\n",
       "30        3\n",
       "39        3\n",
       "35        3\n",
       "36        2\n",
       "33        2\n",
       "44        2\n",
       "47        2\n",
       "49        2\n",
       "32        2\n",
       "72        1\n",
       "70        1\n",
       "38        1\n",
       "43        1\n",
       "69        1\n",
       "45        1\n",
       "77        1\n",
       "67        1\n",
       "50        1\n",
       "34        1\n",
       "82        1\n",
       "53        1\n",
       "87        1\n",
       "Name: id, dtype: int64"
      ]
     },
     "execution_count": 12,
     "metadata": {},
     "output_type": "execute_result"
    }
   ],
   "source": [
    "rsvps.id.value_counts().value_counts()"
   ]
  },
  {
   "cell_type": "code",
   "execution_count": 13,
   "metadata": {
    "collapsed": true
   },
   "outputs": [],
   "source": [
    "import numpy as np"
   ]
  },
  {
   "cell_type": "code",
   "execution_count": null,
   "metadata": {
    "collapsed": true
   },
   "outputs": [],
   "source": []
  }
 ],
 "metadata": {
  "kernelspec": {
   "display_name": "Python [conda root]",
   "language": "python",
   "name": "conda-root-py"
  },
  "language_info": {
   "codemirror_mode": {
    "name": "ipython",
    "version": 3
   },
   "file_extension": ".py",
   "mimetype": "text/x-python",
   "name": "python",
   "nbconvert_exporter": "python",
   "pygments_lexer": "ipython3",
   "version": "3.5.2"
  }
 },
 "nbformat": 4,
 "nbformat_minor": 1
}
